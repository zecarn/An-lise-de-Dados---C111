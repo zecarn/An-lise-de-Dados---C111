{
 "cells": [
  {
   "cell_type": "code",
   "execution_count": 6,
   "id": "e7633c03",
   "metadata": {},
   "outputs": [
    {
     "name": "stdout",
     "output_type": "stream",
     "text": [
      "('Goku', 'Vegeta', 'Trunks', 'Gohan')\n",
      "Vegeta\n",
      "('Goku', 'Vegeta')\n",
      "4\n",
      "['Gohan', 'Goku', 'Trunks', 'Vegeta']\n"
     ]
    }
   ],
   "source": [
    "nomes = ('Goku', 'Vegeta', 'Trunks', 'Gohan') # É uma Tupla (não pode ser alterada)\n",
    "print(nomes) # Todos\n",
    "print(nomes[1]) # Segundo valor\n",
    "print(nomes[:2]) # Valores menores que o valor\n",
    "print(len(nomes)) # Conta quantos valores tem na tupla\n",
    "print(sorted(nomes))"
   ]
  },
  {
   "cell_type": "code",
   "execution_count": 16,
   "id": "6d4ab4ab",
   "metadata": {},
   "outputs": [
    {
     "name": "stdout",
     "output_type": "stream",
     "text": [
      "['Freeza', 'Vegeta', 'Kiririn', 'Gohan', 'Bulma']\n",
      "['Bulma', 'Freeza', 'Gohan', 'Kiririn', 'Vegeta']\n"
     ]
    }
   ],
   "source": [
    "nomes = ['Goku', 'Vegeta', 'Trunks', 'Gohan'] # É uma Lista (pode ser alterada)\n",
    "nomes.append('Bulma') # Adicionar valor na lista\n",
    "nomes[2] = 'Kiririn' # Substituir valor\n",
    "nomes.insert(1, 'Freeza') # Inserir valor na posição indicada\n",
    "nomes.remove('Goku') # Remover valor específico\n",
    "print(nomes) # Todos\n",
    "nomes.sort() # Ordenar \n",
    "print(nomes)\n"
   ]
  },
  {
   "cell_type": "code",
   "execution_count": 21,
   "id": "e8433722",
   "metadata": {},
   "outputs": [
    {
     "name": "stdout",
     "output_type": "stream",
     "text": [
      "{'Vegeta', 'Gohan', 'Goku', 'Trunks'}\n",
      "{'Vegeta', 'Gohan', 'Kiririn', 'Trunks'}\n"
     ]
    }
   ],
   "source": [
    "nomes = {'Goku', 'Vegeta', 'Trunks', 'Gohan', 'Goku', 'Trunks'} # É um Conjunto (não deixa valores repetidos)\n",
    "print(nomes) # Todos\n",
    "nomes.add('Kiririn') # Adicionar valor na lista\n",
    "nomes.remove('Goku') # Remover valor específico\n",
    "print(nomes)"
   ]
  },
  {
   "cell_type": "code",
   "execution_count": 24,
   "id": "4111ea1a",
   "metadata": {},
   "outputs": [
    {
     "name": "stdout",
     "output_type": "stream",
     "text": [
      "{1, 2, 3, 4, 6}\n",
      "{4}\n",
      "{1, 2}\n"
     ]
    }
   ],
   "source": [
    "# Conjuntos 2\n",
    "A = {1,2,4}\n",
    "B = {3,4,6}\n",
    "\n",
    "Uniao = A | B\n",
    "Interseccao = A & B\n",
    "Diferenca = A - B\n",
    "\n",
    "print(Uniao)\n",
    "print(Interseccao)\n",
    "print(Diferenca)"
   ]
  },
  {
   "cell_type": "code",
   "execution_count": null,
   "id": "ef3c30c1",
   "metadata": {},
   "outputs": [
    {
     "name": "stdout",
     "output_type": "stream",
     "text": [
      "Goku\n",
      "{'nome': 'Goku', 'idade': 43, 'sexo': 'M'}\n"
     ]
    }
   ],
   "source": [
    "dados = {'nome':'Goku', 'idade':43} # É um Dicionário (tem Chave e Valor)\n",
    "dados['sexo'] = 'M' # Adicionar Chave e Valor\n",
    "print(dados['nome']) # Mostrar valor de chave específicada\n",
    "print(dados.keys())\n",
    "print(dados)"
   ]
  },
  {
   "cell_type": "code",
   "execution_count": 31,
   "id": "d0865c9f",
   "metadata": {},
   "outputs": [
    {
     "name": "stdout",
     "output_type": "stream",
     "text": [
      "['Goku']\n",
      "['Vegeta']\n",
      "['Freeza']\n",
      "[18]\n",
      "[22]\n",
      "[56]\n",
      "['M']\n",
      "['M']\n",
      "['F']\n"
     ]
    }
   ],
   "source": [
    "#Exercício\n",
    "\n",
    "dados1 = {'nome': 'Goku', 'idade': 18, 'sexo': 'M'}\n",
    "dados2 = {'nome': 'Vegeta', 'idade': 22, 'sexo': 'M'}\n",
    "dados3 = {'nome': 'Freeza', 'idade': 56, 'sexo': 'F'}\n",
    "\n",
    "dbz = [dados1, dados2, dados3]\n",
    "\n",
    "print([dbz[0]['nome']])\n",
    "print([dbz[1]['nome']])\n",
    "print([dbz[2]['nome']])\n",
    "\n",
    "print([dbz[0]['idade']])\n",
    "print([dbz[1]['idade']])\n",
    "print([dbz[2]['idade']])\n",
    "\n",
    "print([dbz[0]['sexo']])\n",
    "print([dbz[1]['sexo']])\n",
    "print([dbz[2]['sexo']])\n",
    "\n"
   ]
  }
 ],
 "metadata": {
  "kernelspec": {
   "display_name": "MyEnv",
   "language": "python",
   "name": "python3"
  },
  "language_info": {
   "codemirror_mode": {
    "name": "ipython",
    "version": 3
   },
   "file_extension": ".py",
   "mimetype": "text/x-python",
   "name": "python",
   "nbconvert_exporter": "python",
   "pygments_lexer": "ipython3",
   "version": "3.13.5"
  }
 },
 "nbformat": 4,
 "nbformat_minor": 5
}
