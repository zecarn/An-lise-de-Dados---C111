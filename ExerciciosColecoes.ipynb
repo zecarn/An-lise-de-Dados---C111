{
 "cells": [
  {
   "cell_type": "code",
   "execution_count": 2,
   "id": "e12c4338",
   "metadata": {},
   "outputs": [
    {
     "name": "stdout",
     "output_type": "stream",
     "text": [
      "Os 3 primeiros colocados sao: \n",
      "Flamengo\n",
      "Palmeiras\n",
      "Gremio\n",
      "\n",
      "Os 2 ultimos colocados sao: \n",
      "Sao Paulo\n",
      "Vasco\n",
      "\n",
      "Times em ordem alfabetica:\n",
      "Flamengo\n",
      "Gremio\n",
      "Palmeiras\n",
      "Sao Paulo\n",
      "Vasco\n",
      "\n",
      "O Gremio esta na posicao 3.\n"
     ]
    }
   ],
   "source": [
    "# Exercício 1\n",
    "\n",
    "times = []\n",
    "\n",
    "for i in range(5):\n",
    "    nome = str(input())\n",
    "    times.append(nome)\n",
    "\n",
    "print(\"Os 3 primeiros colocados sao: \")\n",
    "for nome in times[:3]:\n",
    "    print(nome)\n",
    "\n",
    "print()\n",
    "\n",
    "print(\"Os 2 ultimos colocados sao: \")\n",
    "for nome in times[-2:]:\n",
    "    print(nome)\n",
    "\n",
    "print()\n",
    "\n",
    "print(\"Times em ordem alfabetica:\")\n",
    "ordem = sorted(times)\n",
    "for nome in ordem:\n",
    "    print(nome)\n",
    "\n",
    "print()\n",
    "\n",
    "busca = str(input())\n",
    "for i in range(5):\n",
    "    if busca == times[i]:\n",
    "        print(f'O {busca} esta na posicao {i+1}.')"
   ]
  },
  {
   "cell_type": "code",
   "execution_count": null,
   "id": "7cb0f875",
   "metadata": {},
   "outputs": [
    {
     "name": "stdout",
     "output_type": "stream",
     "text": [
      "Modelos disponíveis em pelo menos uma das lojas:\n",
      "{'Xiaomi 12', 'Iphone 14', 'Moto G60', 'Pixel 7', 'Pixel 7 ', 'Galaxy S22'}\n",
      "Modelos disponíveis em ambas as lojas:\n",
      "{'Galaxy S22'}\n"
     ]
    }
   ],
   "source": [
    "# Exercício 2\n",
    "\n",
    "lista1 = []\n",
    "lista2 = []\n",
    "\n",
    "n = int(input())\n",
    "for i in range(n):\n",
    "    lista1.append(str(input()))\n",
    "\n",
    "n = int(input())\n",
    "for i in range(n):\n",
    "    lista2.append(str(input()))\n",
    "\n",
    "UmaLoja = set()\n",
    "for nome in lista1:\n",
    "    UmaLoja.add(nome)\n",
    "for nome in lista2:\n",
    "    UmaLoja.add(nome)\n",
    "\n",
    "l1 = []\n",
    "for nome in UmaLoja:\n",
    "    l1.append(nome)\n",
    "\n",
    "print(\"Modelos disponíveis em pelo menos uma das lojas:\")\n",
    "print(l1)\n",
    "\n",
    "DuasLoja = set()\n",
    "for nome1 in lista1:\n",
    "    for nome2 in lista2:\n",
    "        if nome1 == nome2:\n",
    "            DuasLoja.add(nome1)\n",
    "\n",
    "l2 = []\n",
    "for nome in DuasLoja:\n",
    "    l2.append(nome)\n",
    "\n",
    "print(\"Modelos disponíveis em ambas as lojas:\")\n",
    "print(l2)"
   ]
  },
  {
   "cell_type": "code",
   "execution_count": 4,
   "id": "0e4a73b4",
   "metadata": {},
   "outputs": [
    {
     "name": "stdout",
     "output_type": "stream",
     "text": [
      "{'nome': 'Jose', 'media': 30, 'situacao': 'RP'}\n"
     ]
    }
   ],
   "source": [
    "# Exercício 3\n",
    "\n",
    "dict = {}\n",
    "\n",
    "name = input().strip()\n",
    "half = int(input())\n",
    "\n",
    "dict['nome'] = name\n",
    "dict['media'] = half\n",
    "\n",
    "if half >= 50:\n",
    "    dict['situacao'] = 'AP'\n",
    "else:\n",
    "    dict['situacao'] = 'RP'\n",
    "\n",
    "print(dict)\n",
    "\n"
   ]
  },
  {
   "cell_type": "code",
   "execution_count": 2,
   "id": "ea5b37dd",
   "metadata": {},
   "outputs": [
    {
     "name": "stdout",
     "output_type": "stream",
     "text": [
      "Pessoa mais leve: roger\n",
      "Pessoa mais pesada: maria\n"
     ]
    }
   ],
   "source": [
    "# Exercício 4\n",
    "\n",
    "pessoas = {}\n",
    "\n",
    "for i in range(5):\n",
    "    nome = input(\"Nome: \").strip() # Strip: é usado para remover espaços em branco e quebras de linha extras no início e no fim de uma string.\n",
    "    peso = int(input(\"Peso: \"))\n",
    "    pessoas[nome] = peso\n",
    "\n",
    "# inicializa com o primeiro item do dicionário\n",
    "nomes = list(pessoas.keys())\n",
    "primeiro_nome = nomes[0]\n",
    "\n",
    "mais_leve = primeiro_nome\n",
    "pesoMinor = pessoas[primeiro_nome]\n",
    "\n",
    "mais_pesado = primeiro_nome\n",
    "pesoPlus = pessoas[primeiro_nome]\n",
    "\n",
    "# percorre o dicionário\n",
    "for nome in pessoas:\n",
    "    if pessoas[nome] < pesoMinor:\n",
    "        mais_leve = nome\n",
    "        pesoMinor = pessoas[nome]\n",
    "\n",
    "    if pessoas[nome] > pesoPlus:\n",
    "        mais_pesado = nome\n",
    "        pesoPlus = pessoas[nome]\n",
    "\n",
    "# saída\n",
    "print(f\"Pessoa mais leve: {mais_leve}\")\n",
    "print(f\"Pessoa mais pesada: {mais_pesado}\")\n"
   ]
  },
  {
   "cell_type": "code",
   "execution_count": null,
   "id": "a11b49b4",
   "metadata": {},
   "outputs": [
    {
     "name": "stdout",
     "output_type": "stream",
     "text": [
      "Media de idade do grupo: 18.0\n",
      "Mulheres com menos de 20 anos: 2\n"
     ]
    }
   ],
   "source": [
    "# Exercício 5\n",
    "\n",
    "lista = []\n",
    "\n",
    "N = int(input())\n",
    "\n",
    "idadeTotal = 0\n",
    "mulherMenor = 0\n",
    "\n",
    "for dados in range(N):\n",
    "    nome = str(input().strip())\n",
    "    idade = int(input())\n",
    "    genero = str(input().strip())\n",
    "\n",
    "    lista.append({'nome' : nome, 'idade' : idade, 'genero' : genero})\n",
    "\n",
    "for pessoa in lista:\n",
    "    idade = pessoa['idade']\n",
    "    idadeTotal += idade\n",
    "    \n",
    "    if (pessoa['genero'] == 'mulher') and (pessoa['idade'] < 20):\n",
    "        mulherMenor += 1\n",
    "\n",
    "media = idadeTotal/N\n",
    "\n",
    "print(f'Media de idade do grupo: {media}')\n",
    "print(f'Mulheres com menos de 20 anos: {mulherMenor}')\n",
    "    \n"
   ]
  }
 ],
 "metadata": {
  "kernelspec": {
   "display_name": "MyEnv",
   "language": "python",
   "name": "python3"
  },
  "language_info": {
   "codemirror_mode": {
    "name": "ipython",
    "version": 3
   },
   "file_extension": ".py",
   "mimetype": "text/x-python",
   "name": "python",
   "nbconvert_exporter": "python",
   "pygments_lexer": "ipython3",
   "version": "3.13.5"
  }
 },
 "nbformat": 4,
 "nbformat_minor": 5
}
