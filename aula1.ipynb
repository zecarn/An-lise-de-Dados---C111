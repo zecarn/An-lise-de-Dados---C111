{
  "cells": [
    {
      "cell_type": "code",
      "source": [
        "print('hello world!')\n",
        "print(7+7)\n",
        "print('o resultado de 7+7 é :', 7+7) # para imprimir mais de uma coisa usamos virgula"
      ],
      "metadata": {
        "id": "DQ8kUrPHnqVQ",
        "outputId": "b187b8e7-57ee-4647-f546-541da0e4a991",
        "colab": {
          "base_uri": "https://localhost:8080/",
          "height": 106
        }
      },
      "execution_count": 1,
      "outputs": [
        {
          "output_type": "error",
          "ename": "SyntaxError",
          "evalue": "unexpected character after line continuation character (ipython-input-3602041706.py, line 1)",
          "traceback": [
            "\u001b[0;36m  File \u001b[0;32m\"/tmp/ipython-input-3602041706.py\"\u001b[0;36m, line \u001b[0;32m1\u001b[0m\n\u001b[0;31m    print('hello world!')\\n\",\u001b[0m\n\u001b[0m                          ^\u001b[0m\n\u001b[0;31mSyntaxError\u001b[0m\u001b[0;31m:\u001b[0m unexpected character after line continuation character\n"
          ]
        }
      ]
    },
    {
      "cell_type": "code",
      "source": [
        "# variaveis\\n\n",
        "nome = 'carlos ynoguti'\n",
        "idade = 20\n",
        "peso = 54.4\n",
        "print(f'Seu nome é : {nome} , você tem {idade} anos, e pesa {peso: .2f} kg')\n",
        ""
      ],
      "metadata": {
        "id": "pW72rLlPn5eX"
      },
      "execution_count": null,
      "outputs": []
    },
    {
      "cell_type": "code",
      "source": [
        "# Leitura\n",
        "nome = input('Digite seu nome: ')\n",
        "idade = int(input('Digite sua idade: '))\n",
        "peso = float(input('Digite seu peso: '))\n",
        "print(f'Seu nome é : {nome} , você tem {idade} anos, e pesa {peso: .2f} kg')\n",
        "print(type(nome))\n",
        "print(type(idade))\n",
        "print(type(peso))"
      ],
      "metadata": {
        "id": "GpXhgxKaocd4"
      },
      "execution_count": null,
      "outputs": []
    },
    {
      "cell_type": "code",
      "source": [
        "# operadores\\n\n",
        "x = int(input('Digite um numero: '))\\n\",\n",
        "y = int(input('Digite outro numero: '))\\n\",\n",
        "\n",
        "soma = x + y\n",
        "diferenca = x - y\n",
        "divisao = x / y\n",
        "multiplicacao = x * y\n",
        "resto = x % y\n",
        "elevado = x ** y\n",
        "\n",
        "print('soma = x + y: ', soma )\n",
        "print('diferena = x - y: ', diferenca )\n",
        "print('divisao = x / y: ', divisao )\n",
        "print('multiplicacao = x * y: ', multiplicacao )\n",
        "print('resto = x % y: ', resto )\n",
        "print('elevado = x ** y: ', elevado )"
      ],
      "metadata": {
        "id": "0Ux6HpT2pBye"
      },
      "execution_count": null,
      "outputs": []
    },
    {
      "cell_type": "code",
      "source": [
        "# bibliotecas\n",
        "import math\n",
        "\n",
        "x = float(input())\\n\",\n",
        "print(math.trunc(x))\\n\",\n",
        "\n",
        "math.ceil  #  math.ceil(x) → arredonda para cima\\n\",\n",
        "# ex: print(math.ceil(2.1))   # 3\\n\",\n",
        "\n",
        "math.floor #  math.floor(x) → arredonda para baixo\\n\",\n",
        "# ex: print(math.floor(2.96))  # 2\\n\",\n",
        "\n",
        "round # arredonda\n",
        ""
      ],
      "metadata": {
        "id": "y-89GlgApbDs"
      },
      "execution_count": null,
      "outputs": []
    },
    {
      "cell_type": "code",
      "source": [
        "# cadeiasde caracteres\n",
        "\n",
        "var = 'hello world'\n",
        "print(var[0]) # mostra a letra na posição 6\\n\",\n",
        "print(var[6:11]) # mostra da posição 6 ate a posição 10\\n\",\n",
        "print(var[6:]) # mostra da posição 6 ate o final\\n\",\n",
        "print(var[:5]) # mostra do inicio ate a posição 4\\n\",\n",
        "print(var[0:11:2]) # mostra da posição 0 ate a posição 10 pulando de 2 em 2\""
      ],
      "metadata": {
        "id": "JlpcPn0Bpwzc"
      },
      "execution_count": null,
      "outputs": []
    },
    {
      "cell_type": "code",
      "source": [
        "# função uteis\n",
        "var = 'hello world'\n",
        "\n",
        "print(len(var)) # comprimento do var\n",
        "print(var.count('o')) # conta quantos 'o'\n",
        "print(var.count('l', 0,5)) # conta quantos 'l' no intervalo [0,4]\n",
        "print(var.find('lo')) # posção onde está 'lo'\n",
        "print('world' in var)\n",
        "var1= var.replace('world', 'python') # substitui 'world' por 'python'\n",
        "print(var1)\n",
        "print(var.upper()) # maiusculo\n",
        "print(var.lower()) # minusculo\n",
        "print(var.capitalize()) # primeira letra maiuscula\n",
        "print(var.title()) # primeira letra de cada palavra maiuscula\n"
      ],
      "metadata": {
        "id": "IIDJ6AJAqCvO"
      },
      "execution_count": null,
      "outputs": []
    }
  ],
  "metadata": {
    "colab": {
      "name": "Conheça o Colab",
      "toc_visible": true,
      "provenance": []
    },
    "kernelspec": {
      "display_name": "Python 3",
      "name": "python3"
    }
  },
  "nbformat": 4,
  "nbformat_minor": 0
}