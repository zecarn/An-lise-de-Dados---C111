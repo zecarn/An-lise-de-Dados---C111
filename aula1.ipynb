{
 "cells": [
  {
   "cell_type": "code",
   "execution_count": 1,
   "id": "16ad2b41",
   "metadata": {},
   "outputs": [
    {
     "name": "stdout",
     "output_type": "stream",
     "text": [
      "Hello World!\n",
      "14\n",
      "O resultado de 7+7 é: 14\n"
     ]
    }
   ],
   "source": [
    "print('Hello World!')\n",
    "print(7+7)\n",
    "print('O resultado de 7+7 é:', 7+7)"
   ]
  },
  {
   "cell_type": "code",
   "execution_count": 6,
   "id": "6fb07d5a",
   "metadata": {},
   "outputs": [
    {
     "name": "stdout",
     "output_type": "stream",
     "text": [
      "23\n"
     ]
    },
    {
     "data": {
      "text/plain": [
       "' \\nceil # inteiro acima\\nflorr # inteiro abaixo\\nround # arredonda\\n\\n'"
      ]
     },
     "execution_count": 6,
     "metadata": {},
     "output_type": "execute_result"
    }
   ],
   "source": [
    "# Bibliotecas \n",
    "import math\n",
    "\n",
    "x = float(input())\n",
    "\n",
    "print(math.trunc(x))\n",
    "\"\"\" \n",
    "ceil # inteiro acima\n",
    "florr # inteiro abaixo\n",
    "round # arredonda\n",
    "\n",
    "\"\"\""
   ]
  },
  {
   "cell_type": "code",
   "execution_count": 14,
   "id": "6b66959e",
   "metadata": {},
   "outputs": [
    {
     "name": "stdout",
     "output_type": "stream",
     "text": [
      "W\n",
      "World\n",
      "World\n",
      "HloWrd\n",
      "3\n",
      "True\n",
      "Hello Python\n",
      "HELLO WORLD\n",
      "hello world\n"
     ]
    }
   ],
   "source": [
    "# Cadeias de caracteres\n",
    "var = 'Hello World'\n",
    "print(var[6]) # mostra aletras na posição 6\n",
    "print(var[6:11]) # mostra da posição 6 até a posição 10\n",
    "print(var[6:]) # mostra da posição 6 até o final\n",
    "print(var[0:11:2]) # mostra do começo ao final de 2 em 2\n",
    "print(var.find('lo')) # posição onde está 'lo'\n",
    "print('World' in var) # True se 'World' estiver em var\n",
    "var1 = var.replace('World','Python') # troca 'World' por 'Python'\n",
    "print(var1)\n",
    "print(var.upper()) # maiúsculas\n",
    "print(var.lower()) # minúsculas\n"
   ]
  },
  {
   "cell_type": "code",
   "execution_count": 13,
   "id": "483f430e",
   "metadata": {},
   "outputs": [
    {
     "name": "stdout",
     "output_type": "stream",
     "text": [
      "11\n",
      "2\n",
      "2\n"
     ]
    }
   ],
   "source": [
    "# Funções úteis \n",
    "var = 'Hello World'\n",
    "\n",
    "print(len(var)) # comprimento de var\n",
    "print(var.count('o')) # mostra quantidade da letra\n",
    "print(var.count('l',0,5)) # mostra quantidade da letra no intervalo da palavra"
   ]
  }
 ],
 "metadata": {
  "kernelspec": {
   "display_name": "MyEnv",
   "language": "python",
   "name": "python3"
  },
  "language_info": {
   "codemirror_mode": {
    "name": "ipython",
    "version": 3
   },
   "file_extension": ".py",
   "mimetype": "text/x-python",
   "name": "python",
   "nbconvert_exporter": "python",
   "pygments_lexer": "ipython3",
   "version": "3.13.5"
  }
 },
 "nbformat": 4,
 "nbformat_minor": 5
}
