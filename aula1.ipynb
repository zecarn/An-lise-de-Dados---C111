{
  "cells": [
    {
      "cell_type": "code",
      "execution_count": 1,
      "metadata": {
        "colab": {
          "base_uri": "https://localhost:8080/",
          "height": 106
        },
        "id": "DQ8kUrPHnqVQ",
        "outputId": "b187b8e7-57ee-4647-f546-541da0e4a991"
      },
      "outputs": [
        {
          "name": "stdout",
          "output_type": "stream",
          "text": [
            "hello world!\n",
            "14\n",
            "o resultado de 7+7 é : 14\n"
          ]
        }
      ],
      "source": [
        "print('hello world!')\n",
        "print(7+7)\n",
        "print('o resultado de 7+7 é :', 7+7) # para imprimir mais de uma coisa usamos virgula"
      ]
    },
    {
      "cell_type": "code",
      "execution_count": 2,
      "metadata": {
        "id": "pW72rLlPn5eX"
      },
      "outputs": [
        {
          "name": "stdout",
          "output_type": "stream",
          "text": [
            "Seu nome é : carlos ynoguti , você tem 20 anos, e pesa  54.40 kg\n"
          ]
        }
      ],
      "source": [
        "# variaveis\\n\n",
        "nome = 'carlos ynoguti'\n",
        "idade = 20\n",
        "peso = 54.4\n",
        "print(f'Seu nome é : {nome} , você tem {idade} anos, e pesa {peso: .2f} kg')\n"
      ]
    },
    {
      "cell_type": "code",
      "execution_count": 4,
      "metadata": {
        "id": "GpXhgxKaocd4"
      },
      "outputs": [
        {
          "name": "stdout",
          "output_type": "stream",
          "text": [
            "Seu nome é : jose , você tem 12 anos, e pesa  34.40 kg\n",
            "<class 'str'>\n",
            "<class 'int'>\n",
            "<class 'float'>\n"
          ]
        }
      ],
      "source": [
        "# Leitura\n",
        "nome = input('Digite seu nome: ')\n",
        "idade = int(input('Digite sua idade: '))\n",
        "peso = float(input('Digite seu peso: '))\n",
        "print(f'Seu nome é : {nome} , você tem {idade} anos, e pesa {peso: .2f} kg')\n",
        "print(type(nome))\n",
        "print(type(idade))\n",
        "print(type(peso))"
      ]
    },
    {
      "cell_type": "code",
      "execution_count": 6,
      "metadata": {
        "id": "0Ux6HpT2pBye"
      },
      "outputs": [
        {
          "name": "stdout",
          "output_type": "stream",
          "text": [
            "soma = x + y:  27\n",
            "diferena = x - y:  19\n",
            "divisao = x / y:  5.75\n",
            "multiplicacao = x * y:  92\n",
            "resto = x % y:  3\n",
            "elevado = x ** y:  279841\n"
          ]
        }
      ],
      "source": [
        "# operadores\\n\n",
        "x = int(input('Digite um numero: '))\n",
        "y = int(input('Digite outro numero: '))\n",
        "\n",
        "soma = x + y\n",
        "diferenca = x - y\n",
        "divisao = x / y\n",
        "multiplicacao = x * y\n",
        "resto = x % y\n",
        "elevado = x ** y\n",
        "\n",
        "print('soma = x + y: ', soma )\n",
        "print('diferena = x - y: ', diferenca )\n",
        "print('divisao = x / y: ', divisao )\n",
        "print('multiplicacao = x * y: ', multiplicacao )\n",
        "print('resto = x % y: ', resto )\n",
        "print('elevado = x ** y: ', elevado )"
      ]
    },
    {
      "cell_type": "code",
      "execution_count": 3,
      "metadata": {
        "id": "y-89GlgApbDs"
      },
      "outputs": [
        {
          "name": "stdout",
          "output_type": "stream",
          "text": [
            "58\n"
          ]
        },
        {
          "data": {
            "text/plain": [
              "<function round(number, ndigits=None)>"
            ]
          },
          "execution_count": 3,
          "metadata": {},
          "output_type": "execute_result"
        }
      ],
      "source": [
        "# bibliotecas\n",
        "import math\n",
        "\n",
        "x = float(input())\n",
        "print(math.trunc(x))\n",
        "\n",
        "math.ceil  #  math.ceil(x) → arredonda para cima\\n\",\n",
        "# ex: print(math.ceil(2.1))   # 3\\n\",\n",
        "\n",
        "math.floor #  math.floor(x) → arredonda para baixo\\n\",\n",
        "# ex: print(math.floor(2.96))  # 2\\n\",\n",
        "\n",
        "round # arredonda\n"
      ]
    },
    {
      "cell_type": "code",
      "execution_count": 1,
      "metadata": {
        "id": "JlpcPn0Bpwzc"
      },
      "outputs": [
        {
          "name": "stdout",
          "output_type": "stream",
          "text": [
            "h\n",
            "world\n",
            "world\n",
            "hello\n",
            "hlowrd\n"
          ]
        }
      ],
      "source": [
        "# cadeiasde caracteres\n",
        "\n",
        "var = 'hello world'\n",
        "print(var[0]) # mostra a letra na posição 6\\n\",\n",
        "print(var[6:11]) # mostra da posição 6 ate a posição 10\\n\",\n",
        "print(var[6:]) # mostra da posição 6 ate o final\\n\",\n",
        "print(var[:5]) # mostra do inicio ate a posição 4\\n\",\n",
        "print(var[0:11:2]) # mostra da posição 0 ate a posição 10 pulando de 2 em 2\""
      ]
    },
    {
      "cell_type": "code",
      "execution_count": 10,
      "metadata": {
        "id": "IIDJ6AJAqCvO"
      },
      "outputs": [
        {
          "name": "stdout",
          "output_type": "stream",
          "text": [
            "11\n",
            "2\n",
            "2\n",
            "3\n",
            "True\n",
            "hello python\n",
            "HELLO WORLD\n",
            "hello world\n",
            "Hello world\n",
            "Hello World\n"
          ]
        }
      ],
      "source": [
        "# função uteis\n",
        "var = 'hello world'\n",
        "\n",
        "print(len(var)) # comprimento do var\n",
        "print(var.count('o')) # conta quantos 'o'\n",
        "print(var.count('l', 0,5)) # conta quantos 'l' no intervalo [0,4]\n",
        "print(var.find('lo')) # posção onde está 'lo'\n",
        "print('world' in var)\n",
        "var1= var.replace('world', 'python') # substitui 'world' por 'python'\n",
        "print(var1)\n",
        "print(var.upper()) # maiusculo\n",
        "print(var.lower()) # minusculo\n",
        "print(var.capitalize()) # primeira letra maiuscula\n",
        "print(var.title()) # primeira letra de cada palavra maiuscula\n"
      ]
    }
  ],
  "metadata": {
    "colab": {
      "name": "Conheça o Colab",
      "provenance": [],
      "toc_visible": true
    },
    "kernelspec": {
      "display_name": "MyEnv",
      "language": "python",
      "name": "python3"
    },
    "language_info": {
      "codemirror_mode": {
        "name": "ipython",
        "version": 3
      },
      "file_extension": ".py",
      "mimetype": "text/x-python",
      "name": "python",
      "nbconvert_exporter": "python",
      "pygments_lexer": "ipython3",
      "version": "3.13.5"
    }
  },
  "nbformat": 4,
  "nbformat_minor": 0
}
