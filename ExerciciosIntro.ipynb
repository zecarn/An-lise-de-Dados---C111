{
 "cells": [
  {
   "cell_type": "code",
   "execution_count": null,
   "id": "26ec0cd5",
   "metadata": {},
   "outputs": [
    {
     "name": "stdout",
     "output_type": "stream",
     "text": [
      "JOSÉ CARLOS\n",
      "josé carlos\n",
      "11\n",
      "José Carlos do Inatel\n"
     ]
    }
   ],
   "source": [
    "# Exercício 1\n",
    "nome = input('Digite seu nome: ')\n",
    "print(nome.upper())\n",
    "print(nome.lower())\n",
    "print(len(nome))\n",
    "nome = f'{nome} do Inatel'\n",
    "print(nome)"
   ]
  },
  {
   "cell_type": "code",
   "execution_count": 1,
   "id": "5eb76b62",
   "metadata": {},
   "outputs": [
    {
     "name": "stdout",
     "output_type": "stream",
     "text": [
      "7 x 2 = 14\n",
      "7 x 3 = 21\n",
      "7 x 4 = 28\n",
      "7 x 5 = 35\n",
      "7 x 6 = 42\n",
      "7 x 7 = 49\n",
      "7 x 8 = 56\n",
      "7 x 9 = 63\n"
     ]
    }
   ],
   "source": [
    "# Exercício 2\n",
    "N = int(input('Insira o numero da tabuada: '))\n",
    "menor =  int(input('Coloque o menor valor: '))\n",
    "maior = int(input('Coloque o menor valor: '))\n",
    "\n",
    "if menor > maior:\n",
    "    menor, maior = maior, menor\n",
    "\n",
    "for i in range(menor, maior + 1):\n",
    "    valor = N*i\n",
    "    print(f'{N} x {i} = {valor}')\n",
    "\n"
   ]
  },
  {
   "cell_type": "code",
   "execution_count": 4,
   "id": "8cbbcf5a",
   "metadata": {},
   "outputs": [
    {
     "name": "stdout",
     "output_type": "stream",
     "text": [
      "Caractere invalido\n",
      "Caractere invalido\n",
      "Caractere invalido\n",
      "Caractere invalido\n",
      "homem\n"
     ]
    }
   ],
   "source": [
    "# Exercício 3\n",
    "\n",
    "gender = input('Entre com seu gênero: Homem (M) | Mulher (F)')\n",
    "\n",
    "while gender not in ('M','F'):\n",
    "    print('Caractere invalido')\n",
    "    gender = input()\n",
    "\n",
    "if gender == 'M':\n",
    "    print('homem')\n",
    "\n",
    "if gender == 'F':\n",
    "    print('mulher')\n"
   ]
  },
  {
   "cell_type": "code",
   "execution_count": 9,
   "id": "7819ef1b",
   "metadata": {},
   "outputs": [
    {
     "name": "stdout",
     "output_type": "stream",
     "text": [
      " 202.50\n"
     ]
    }
   ],
   "source": [
    "# Exercício 4\n",
    "\n",
    "km = float(input('Qual será a distancia da sua viagem?'))\n",
    "\n",
    "if km <= 200:\n",
    "    preco = km * 0.50\n",
    "else:\n",
    "    preco = km * 0.45\n",
    "\n",
    "print(f'{preco: .2f}')"
   ]
  },
  {
   "cell_type": "code",
   "execution_count": 17,
   "id": "6a85cd28",
   "metadata": {},
   "outputs": [
    {
     "name": "stdout",
     "output_type": "stream",
     "text": [
      "Unidade: 6\n",
      "Dezena: 8\n",
      "Centena: 5\n",
      "Milhar: 4\n"
     ]
    }
   ],
   "source": [
    "# Exercício 5\n",
    "\n",
    "N = str(input())\n",
    "\n",
    "if len(N) == 4:\n",
    "    print(f'Unidade: {N[3]}')\n",
    "    print(f'Dezena: {N[2]}')\n",
    "    print(f'Centena: {N[1]}')\n",
    "    print(f'Milhar: {N[0]}')"
   ]
  },
  {
   "cell_type": "code",
   "execution_count": 16,
   "id": "88d42c8d",
   "metadata": {},
   "outputs": [
    {
     "name": "stdout",
     "output_type": "stream",
     "text": [
      "Raiz quadrada:  3.317\n",
      "Teto: 11\n",
      "Chão: 10\n",
      "Parte inteira: 10\n"
     ]
    }
   ],
   "source": [
    "# Exercício 6\n",
    "\n",
    "import math\n",
    "\n",
    "x = float(input())\n",
    "\n",
    "raiz = math.sqrt(x)\n",
    "teto = math.ceil(x)\n",
    "chao = math.floor(x)\n",
    "inteiro = math.trunc(x)\n",
    "\n",
    "print(f'Raiz quadrada: {raiz: .3f}')\n",
    "print(f'Teto: {teto}')\n",
    "print(f'Chão: {chao}')\n",
    "print(f'Parte inteira: {inteiro}')\n"
   ]
  }
 ],
 "metadata": {
  "kernelspec": {
   "display_name": "MyEnv",
   "language": "python",
   "name": "python3"
  },
  "language_info": {
   "codemirror_mode": {
    "name": "ipython",
    "version": 3
   },
   "file_extension": ".py",
   "mimetype": "text/x-python",
   "name": "python",
   "nbconvert_exporter": "python",
   "pygments_lexer": "ipython3",
   "version": "3.13.5"
  }
 },
 "nbformat": 4,
 "nbformat_minor": 5
}
